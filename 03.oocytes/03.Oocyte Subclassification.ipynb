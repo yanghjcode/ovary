{
 "cells": [
  {
   "cell_type": "code",
   "execution_count": null,
   "id": "14b34e97-50e5-45de-bdcc-853e5d11bd4a",
   "metadata": {},
   "outputs": [],
   "source": [
    "library(Seurat)\n",
    "library(ggplot2)\n",
    "library(ggpubr)"
   ]
  },
  {
   "cell_type": "code",
   "execution_count": null,
   "id": "de3eb9c2-ddc5-45bb-bfaf-0360e00fbfce",
   "metadata": {},
   "outputs": [],
   "source": [
    "args <- commandArgs(TRUE)\n",
    "infile<-args[1] #The infile contains the marker gene score values for granulosa cells surrounding each oocyte and the number of granulosa cells under different thresholds as deconvoluted by RCTD\n",
    "output_dir<-args[2]\n",
    "prefix <-args[3]"
   ]
  },
  {
   "cell_type": "code",
   "execution_count": null,
   "id": "f7fc548e-071d-4c8b-8296-b14521c9d3ee",
   "metadata": {},
   "outputs": [],
   "source": [
    "all <- read.table(infile,header=T)"
   ]
  },
  {
   "cell_type": "code",
   "execution_count": null,
   "id": "eccc76b9-072e-4974-94e6-8117ae4cc491",
   "metadata": {},
   "outputs": [],
   "source": [
    "head(all)\n",
    "cell <- strsplit(all$Core,\"[_:]\")\n",
    "for(i in 1:dim(all)){all$Sample[i] <- paste0(cell[[i]][1])}\n",
    "mydata <- all[,c(2,7:15)]\n",
    "mydata <- scale(mydata)\n",
    "km_re <- kmeans(mydata,4,nstart=24)\n",
    "dd <- cbind(all,cluster=km_re$cluster)\n",
    "write.table(dd,file=paste(output_dir,prefix,\".k-means.xls\",sep=\"\"),sep=\"\\t\",quote=T,row.names=T)"
   ]
  }
 ],
 "metadata": {
  "kernelspec": {
   "display_name": "R",
   "language": "R",
   "name": "ir"
  },
  "language_info": {
   "codemirror_mode": "r",
   "file_extension": ".r",
   "mimetype": "text/x-r-source",
   "name": "R",
   "pygments_lexer": "r",
   "version": "4.2.1"
  }
 },
 "nbformat": 4,
 "nbformat_minor": 5
}
