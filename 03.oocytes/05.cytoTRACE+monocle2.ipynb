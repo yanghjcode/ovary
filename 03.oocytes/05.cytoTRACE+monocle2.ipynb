{
 "cells": [
  {
   "cell_type": "markdown",
   "id": "54672067-b086-48cf-9943-7163f07f035e",
   "metadata": {},
   "source": [
    "# 01.function"
   ]
  },
  {
   "cell_type": "code",
   "execution_count": null,
   "id": "a118d699-9059-4faa-a9da-1d43086ca73c",
   "metadata": {},
   "outputs": [],
   "source": [
    "# cytoTRACE\n",
    "run_cytotrace <- function(sce,celltye){\n",
    "    library(CytoTRACE)\n",
    "    data <- as.matrix(sce@assays$RNA@counts)\n",
    "    Component <- Embeddings(sce, reduction = \"umap\")\n",
    "    cluster <- FetchData(object = sce, vars = c(celltye))\n",
    "    clus1 <- as.character(cluster[,1])\n",
    "    names(clus1) <- rownames(cluster)\n",
    "    results <- CytoTRACE(data)\n",
    "\n",
    "    results_cell <- as.data.frame(cbind(results[[\"CytoTRACE\"]],results[[\"CytoTRACErank\"]],\n",
    "                                    results[[\"GCS\"]],results[[\"Counts\"]]))\n",
    "    colnames(results_cell) <- c(\"CytoTRACE\",\"CytoTRACErank\",\"GCS\",\"Counts\")\n",
    "    results_cell <- cbind(rownames(results_cell),results_cell)\n",
    "    colnames(results_cell)[1] <- c(\"Barcode\")\n",
    "    cyto <- results_cell\n",
    "    sce$Barcode<- rownames(sce[[]])\n",
    "    meta <- FetchData(object = sce, vars = 'Barcode')\n",
    "    meta <- left_join(meta, cyto,  by = 'Barcode')\n",
    "    sce <- AddMetaData(object = sce,metadata = meta$CytoTRACE,col.name = c('CytoTRACE'))\n",
    "    sce <- AddMetaData(object = sce,metadata = meta$CytoTRACErank,col.name = c('CytoTRACErank'))\n",
    "    sce <- AddMetaData(object = sce,metadata = meta$GCS,col.name = c('GCS'))\n",
    "    sce <- AddMetaData(object = sce,metadata = meta$Counts,col.name = c('Counts'))\n",
    "}\n",
    "\n",
    "\n",
    "#monocle2\n",
    "run_monocle <- function(sce,markers){\n",
    "    library(monocle)\n",
    "    sce@meta.data$Barcode=colnames(sce)\n",
    "    data <- as(as.matrix(sce@assays$RNA@counts), 'sparseMatrix')\n",
    "    pd <- new('AnnotatedDataFrame', data = sce@meta.data)\n",
    "    fData <- data.frame(gene_short_name = row.names(data), row.names = row.names(data))\n",
    "    fd <- new('AnnotatedDataFrame', data = fData)\n",
    "    cds <- newCellDataSet(data,\n",
    "                          phenoData = pd,\n",
    "                          featureData = fd,\n",
    "                          lowerDetectionLimit = 0.5,\n",
    "                          expressionFamily = negbinomial.size())\n",
    "\n",
    "    cds <- estimateSizeFactors(cds)\n",
    "    cds <- estimateDispersions(cds)\n",
    "    cds <- detectGenes(cds, min_expr = 3 )\n",
    "    ordering_genes <- (subset(markers, p_val_adj < 0.01))$gene\n",
    "    length(ordering_genes)\n",
    "\n",
    "    disp_table <- dispersionTable(cds)\n",
    "    unsup_clustering_genes <- subset(disp_table, mean_expression >=0.1)\n",
    "    common_strings <- intersect(unsup_clustering_genes$gene_id, ordering_genes)\n",
    "\n",
    "    cds <- setOrderingFilter(cds, common_strings)\n",
    "    plot_ordering_genes(cds)\n",
    "\n",
    "    cds <- reduceDimension(cds, max_components = 3,\n",
    "                           num_dim = 50,\n",
    "                           method = 'DDRTree') # DDRTree方式\n",
    "    #pData(cds)$State = pData(cds)$seurat_clusters\n",
    "\n",
    "    #library(monocle)\n",
    "    source(\"order_cells.R\")\n",
    "    cds <- orderCells(cds)\n",
    "    meta <- FetchData(object = sce, vars = 'Barcode')\n",
    "    pseudotime=cds@phenoData@data\n",
    "    meta <- left_join(meta, pseudotime,  by = 'Barcode')\n",
    "\n",
    "    plotdf2=as.data.frame(t(cds@reducedDimS))\n",
    "    colnames(plotdf2)=c(\"component1\",\"component2\")\n",
    "\n",
    "    sce <- AddMetaData(object = sce,metadata = meta$Pseudotime,col.name = c('Pseudotime'))\n",
    "    sce <- AddMetaData(object = sce,metadata = meta$State,col.name = c('State'))\n",
    "    sce <- AddMetaData(object = sce,metadata = plotdf2$component1,col.name = c('component1'))\n",
    "    sce <- AddMetaData(object = sce,metadata = plotdf2$component2,col.name = c('component2'))\n",
    "    return(list(mono = cds, rds = sce))\n",
    "}\n",
    "                                                    "
   ]
  },
  {
   "cell_type": "markdown",
   "id": "281862f9-cc3e-4162-99ab-3e4f9fddb374",
   "metadata": {},
   "source": [
    "# 02.standard analysis"
   ]
  },
  {
   "cell_type": "code",
   "execution_count": null,
   "id": "6aae310f-7afd-480e-a359-b71315b4348b",
   "metadata": {},
   "outputs": [],
   "source": [
    "args <- commandArgs(TRUE)\n",
    "rdsfile <- args[1]     # Expression data of oocytes merged with the 5-10 nearest spots to the oocyte center, expression data of granulosa cells randomly merged around oocytes at the same stage, and expression data of TC cells randomly merged around oocytes at the same stage\n",
    "output_dir <- args[2]  # Output file path\n",
    "prefix <- args[3]      # Prefix for output file"
   ]
  },
  {
   "cell_type": "code",
   "execution_count": null,
   "id": "776ce421-c4a3-49d9-ac84-414f6114a022",
   "metadata": {},
   "outputs": [],
   "source": [
    "micro <- readRDS(rdsfile)"
   ]
  },
  {
   "cell_type": "code",
   "execution_count": 10,
   "id": "186ca4b9-719b-4b99-b2cd-0797193f0693",
   "metadata": {},
   "outputs": [],
   "source": [
    "Idents(micro) <- micro@meta.data$orig.ident"
   ]
  },
  {
   "cell_type": "code",
   "execution_count": 11,
   "id": "62ccae54-2b6f-4b8f-b404-a0a4b33c6fcc",
   "metadata": {},
   "outputs": [],
   "source": [
    "oo <- subset(micro,idents=c(\"OO\"))\n",
    "gc <- subset(micro,idents=c(\"GC\"))\n",
    "tc <- subset(micro,idents=c(\"TC\"))"
   ]
  },
  {
   "cell_type": "code",
   "execution_count": null,
   "id": "f0b5a880-137f-4f40-b209-a56f3e79b38f",
   "metadata": {},
   "outputs": [],
   "source": [
    "Idents(oo)=oo@meta.data$subtype\n",
    "markers <- FindAllMarkers(oo, only.pos =FALSE, min.pct = 0.1)\n",
    "oo <- run_cytotrace(oo,\"subtype\")\n",
    "Idents(oo)=oo@meta.data$subtype\n",
    "result <- run_monocle(oo,markers)\n",
    "cds <- result$mono\n",
    "oo <- result$rds\n",
    "saveRDS(cds,file=paste0(output_dir,\"OO\",\".monocle.cds.rds\"))\n",
    "saveRDS(oo,file=paste0(output_dir,\"OO\",\".monocle+cytotrace.rds\"))"
   ]
  },
  {
   "cell_type": "code",
   "execution_count": null,
   "id": "10405fa2-0d2e-4a58-9f0f-2ffe3d48f8e0",
   "metadata": {},
   "outputs": [],
   "source": [
    "Idents(gc)=gc@meta.data$subtype\n",
    "markers <- FindAllMarkers(gc, only.pos =FALSE, min.pct = 0.1)\n",
    "gc <- run_cytotrace(gc,\"subtype\")\n",
    "Idents(gc)=gc@meta.data$subtype\n",
    "result <- run_monocle(gc,markers)\n",
    "cds <- result$mono\n",
    "gc <- result$rds\n",
    "saveRDS(cds,file=paste0(output_dir,\"GC\",\".monocle.cds.rds\"))\n",
    "saveRDS(gc,file=paste0(output_dir,\"GC\",\".monocle+cytotrace.rds\"))"
   ]
  },
  {
   "cell_type": "code",
   "execution_count": null,
   "id": "79505baa-3f6b-40fe-adfb-c0344a6c92bd",
   "metadata": {},
   "outputs": [],
   "source": [
    "Idents(tc)=tc@meta.data$subtype\n",
    "markers <- FindAllMarkers(tc, only.pos =FALSE, min.pct = 0.1)\n",
    "tc <- run_cytotrace(tc,\"subtype\")\n",
    "Idents(tc)=tc@meta.data$subtype\n",
    "result <- run_monocle(tc,markers)\n",
    "cds <- result$mono\n",
    "tc <- result$rds\n",
    "saveRDS(cds,file=paste0(output_dir,\"GC\",\".monocle.cds.rds\"))\n",
    "saveRDS(tc,file=paste0(output_dir,\"GC\",\".monocle+cytotrace.rds\"))\n"
   ]
  }
 ],
 "metadata": {
  "kernelspec": {
   "display_name": "R",
   "language": "R",
   "name": "ir"
  },
  "language_info": {
   "codemirror_mode": "r",
   "file_extension": ".r",
   "mimetype": "text/x-r-source",
   "name": "R",
   "pygments_lexer": "r",
   "version": "4.2.1"
  }
 },
 "nbformat": 4,
 "nbformat_minor": 5
}
