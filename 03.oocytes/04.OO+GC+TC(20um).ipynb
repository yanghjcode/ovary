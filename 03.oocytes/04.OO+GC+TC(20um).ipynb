{
 "cells": [
  {
   "cell_type": "code",
   "execution_count": null,
   "id": "6aae310f-7afd-480e-a359-b71315b4348b",
   "metadata": {},
   "outputs": [],
   "source": [
    "args <- commandArgs(TRUE)\n",
    "rdsfile <- args[1]     # Expression data of oocytes merged with the 5-10 nearest spots to the oocyte center, expression data of granulosa cells randomly merged around oocytes at the same stage, and expression data of TC cells randomly merged around oocytes at the same stage\n",
    "output_dir <- args[2]  # Output file path\n",
    "prefix <- args[3] # Prefix for output file\n",
    "genesetsfile <- args[4] # gene set file"
   ]
  },
  {
   "cell_type": "markdown",
   "id": "d0b3274f-3aad-4ab5-bcaa-a39a553c18d0",
   "metadata": {},
   "source": [
    "# 01. standard analysis"
   ]
  },
  {
   "cell_type": "code",
   "execution_count": null,
   "id": "776ce421-c4a3-49d9-ac84-414f6114a022",
   "metadata": {},
   "outputs": [],
   "source": [
    "micro <- readRDS(rdsfile)"
   ]
  },
  {
   "cell_type": "code",
   "execution_count": null,
   "id": "9c435c40-2f83-4cbf-8368-1d98662d2bd1",
   "metadata": {},
   "outputs": [],
   "source": [
    "micro <- NormalizeData(micro, normalization.method = \"LogNormalize\", scale.factor = 10000)\n",
    "micro <- FindVariableFeatures(micro, selection.method = \"vst\", nfeatures = 10000)\n",
    "micro <- ScaleData(micro,vars.to.regress =c(\"percent.mt\",\"nCount_RNA\"))\n",
    "micro <- RunPCA(micro,features = VariableFeatures(object =micro),npcs=50, verbose=FALSE)\n",
    "micro <- RunUMAP(micro,dims = 1:50)\n",
    "micro <- FindNeighbors(micro, dims = 1:50)\n",
    "meta <- FetchData(object =micro, vars = c(\"PC_1\",\"PC_2\",\"UMAP_1\",\"UMAP_2\",\"tSNE_1\",\"tSNE_2\",\"orig.ident\",\"subtype\"))\n",
    "meta$orig.ident=factor(meta$orig.ident, levels=c(\"OO\",\"GC\",\"TC\"))\n",
    "saveRDS(micro,file=paste0(\"OO+GC+TC.dis20.final.rds\"))"
   ]
  },
  {
   "cell_type": "markdown",
   "id": "b165a775-cbb7-45bb-afe6-51e722623e4e",
   "metadata": {},
   "source": [
    "# 02. marker genes identified"
   ]
  },
  {
   "cell_type": "code",
   "execution_count": 9,
   "id": "c079a75d-03d8-4cf8-9af6-cc71a9199bc3",
   "metadata": {},
   "outputs": [],
   "source": [
    "micro@meta.data$orig.ident <- factor(micro@meta.data$orig.ident, levels = c(\"OO\", \"GC\", \"TC\"))"
   ]
  },
  {
   "cell_type": "code",
   "execution_count": 32,
   "id": "7d7fcafc-dcd9-4d93-af41-4eb0971f52a6",
   "metadata": {},
   "outputs": [
    {
     "name": "stderr",
     "output_type": "stream",
     "text": [
      "Calculating cluster OO\n",
      "\n",
      "Calculating cluster GC\n",
      "\n",
      "Calculating cluster TC\n",
      "\n"
     ]
    }
   ],
   "source": [
    "Idents(micro)=micro@meta.data$orig.ident\n",
    "markers2 <- FindAllMarkers(micro, only.pos =FALSE, min.pct = 0.1)\n",
    "write.csv(markers2, file =paste0(output_dir,\"OO+GC+TC.dis20.markergene.xls\"))"
   ]
  },
  {
   "cell_type": "markdown",
   "id": "bc92b2f3-18fc-4505-b818-4e249c284928",
   "metadata": {},
   "source": [
    "# 03. gene sets score"
   ]
  },
  {
   "cell_type": "code",
   "execution_count": null,
   "id": "2cde1df4-ac05-4307-864e-5eac3e9aa1f0",
   "metadata": {},
   "outputs": [],
   "source": [
    "geneset=read.table(genesetsfile,header=T,sep=\"\\t\")\n",
    "geneset_list <- split(geneset$Gene, geneset$Module)"
   ]
  },
  {
   "cell_type": "code",
   "execution_count": null,
   "id": "9edbab32-041a-49d5-9790-92f3c2a8e534",
   "metadata": {},
   "outputs": [],
   "source": [
    "micro.score=micro\n",
    "for (module in names(geneset_list)) {\n",
    "    micro.score <- AddModuleScore(micro.score,features = list(geneset_list[[module]]),name=module,n.bin = 500,assay=\"RNA\",ctrl.size=500)\n",
    "}\n",
    "keys <- names(geneset_list)\n",
    "modified_keys <- paste(keys, \"1\", sep=\"\")\n"
   ]
  },
  {
   "cell_type": "code",
   "execution_count": 9,
   "id": "c908fd93-8240-4a3b-a3f4-7df0eac24c3b",
   "metadata": {},
   "outputs": [],
   "source": [
    "meta <- FetchData(object =micro.score, vars = c(\"orig.ident\",modified_keys))"
   ]
  },
  {
   "cell_type": "code",
   "execution_count": null,
   "id": "fec63549-4aba-4005-a6d2-e6f6926c7d5c",
   "metadata": {
    "scrolled": true
   },
   "outputs": [],
   "source": [
    "options(repr.plot.width =3.5,repr.plot.height =3.2)\n",
    "p= DotPlot(object = micro.score, features =modified_keys,scale.by = \"size\",assay=\"RNA\",group.by =\"orig.ident\")+RotatedAxis() + labs(x=\"\",y=\"\") + scale_fill_manual(values = allcol)+scale_color_gradient2(low = \"blue\",mid=\"grey95\",high = \"red\",guide = guide_colorbar(ticks.colour = \"black\",frame.colour = \"black\"),name = \"Average\\nexpression\")+cowplot::theme_cowplot()+mytheme_dot\n",
    "ggsave(paste0(output_dir,\"OO+GC+TC.dis20\",\".score.pdf\"),plot=p,w=3.5,h=3.2)\n",
    "p"
   ]
  },
  {
   "cell_type": "code",
   "execution_count": 55,
   "id": "7a7ce2e1-c054-402b-9142-86b71637c49e",
   "metadata": {},
   "outputs": [],
   "source": [
    "micro.score@meta.data$subtype2=paste0(micro.score@meta.data$orig.ident,\"-\",micro.score@meta.data$subtype)"
   ]
  },
  {
   "cell_type": "code",
   "execution_count": 56,
   "id": "64a6d72e-72d5-4e21-a8e2-e6d4e86b61f1",
   "metadata": {},
   "outputs": [],
   "source": [
    "micro.score@meta.data$subtype2 <- factor(micro.score@meta.data$subtype2,levels = c(\"OO-C1\",\"OO-C2\",\"OO-C3\",\"OO-C4\",\"GC-C1\",\"GC-C2\",\"GC-C3\",\"GC-C4\",\"TC-C1\",\"TC-C2\",\"TC-C3\",\"TC-C4\"))"
   ]
  },
  {
   "cell_type": "code",
   "execution_count": null,
   "id": "39939cbe-652b-4f7e-b879-33177a8432be",
   "metadata": {
    "scrolled": true
   },
   "outputs": [],
   "source": [
    "options(repr.plot.width =4.5,repr.plot.height =4.5)\n",
    "p= DotPlot(object = micro.score, features =modified_keys,scale.by = \"size\",assay=\"RNA\",group.by =\"subtype2\")+RotatedAxis() + labs(x=\"\",y=\"\") + scale_fill_manual(values = allcol)+scale_color_gradient2(low = \"blue\",mid=\"grey95\",high = \"red\",guide = guide_colorbar(ticks.colour = \"black\",frame.colour = \"black\"),name = \"Average\\nexpression\")+cowplot::theme_cowplot()+mytheme_dot\n",
    "ggsave(paste0(output_dir,\"OO+GC+TC.dis20\",\".score2.pdf\"),plot=p,w=4.5,h=4.5)\n",
    "p"
   ]
  }
 ],
 "metadata": {
  "kernelspec": {
   "display_name": "R",
   "language": "R",
   "name": "ir"
  },
  "language_info": {
   "codemirror_mode": "r",
   "file_extension": ".r",
   "mimetype": "text/x-r-source",
   "name": "R",
   "pygments_lexer": "r",
   "version": "4.2.1"
  }
 },
 "nbformat": 4,
 "nbformat_minor": 5
}
