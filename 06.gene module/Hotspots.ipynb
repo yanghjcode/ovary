{
 "cells": [
  {
   "cell_type": "markdown",
   "id": "f6d3e3ba-11cc-4ff7-8c53-98fafc90256b",
   "metadata": {},
   "source": [
    "# 01.finction"
   ]
  },
  {
   "cell_type": "code",
   "execution_count": null,
   "id": "5401ce6c-41ab-4421-b17f-4754035785a9",
   "metadata": {},
   "outputs": [],
   "source": [
    "import stereo as st\n",
    "import scanpy as sc\n",
    "import pandas as pd\n",
    "import seaborn as sns\n",
    "from scipy import sparse\n",
    "import anndata as ad\n",
    "import pickle\n",
    "\n",
    "import warnings\n",
    "warnings.filterwarnings('ignore')"
   ]
  },
  {
   "cell_type": "code",
   "execution_count": null,
   "id": "ffb9f8e0-bc27-4a85-a00b-af386d0c65e2",
   "metadata": {},
   "outputs": [],
   "source": [
    "# 02.standard analysis\n",
    "The Hotspot version nested in stereo is v0.9.1"
   ]
  },
  {
   "cell_type": "code",
   "execution_count": null,
   "id": "657612a9-87a2-4527-8f58-45d5246080b9",
   "metadata": {},
   "outputs": [],
   "source": [
    "input_file ='bin100.gem.gz'\n",
    "data=st.io.read_gem(file_path=input_file,sep='\\t',bin_type='bins',bin_size=1,is_sparse=True)\n",
    "data.tl.cal_qc()\n",
    "\n",
    "#Filtering\n",
    "data.tl.filter_cells(min_gene=200, min_n_genes_by_counts=3,  pct_counts_mt=10, inplace=True)\n",
    "\n",
    "#Normalization\n",
    "data.tl.raw_checkpoint()\n",
    "data.tl.raw\n",
    "data.tl.normalize_total(target_sum=10000)\n",
    "data.tl.log1p()\n",
    "\n",
    "#Highly variable genes\n",
    "data.tl.highly_variable_genes(min_mean=0.0125, max_mean=3,min_disp=0.5, n_top_genes=2000, res_key='highly_variable_genes')\n",
    "data.tl.scale()\n",
    "\n",
    "#  analysis of spatial hotspot\n",
    "data.tl.spatial_hotspot(\n",
    "                    use_highly_genes=True,\n",
    "                    use_raw=True,\n",
    "                    hvg_res_key='highly_variable_genes',\n",
    "                    model='normal',\n",
    "                    n_neighbors=30,\n",
    "                    n_jobs=1,\n",
    "                    fdr_threshold=0.05,\n",
    "                    min_gene_threshold=10,\n",
    "                    res_key='spatial_hotspot',\n",
    "                    )\n",
    "import matplotlib.pyplot as plt\n",
    "data.plt.hotspot_local_correlations()\n",
    "plt.savefig(f\"hotspots.all.hvg2000_min10.hotspot_local_correlations.pdf\")\n",
    "data.plt.hotspot_modules()\n",
    "plt.savefig(f\"hotspots.all.hvg2000_min10.hotspot_modules.pdf\")\n",
    "data.tl.result['spatial_hotspot'].modules.to_csv('hotspots.all.hvg2000_min10.Result.csv',header=0)\n"
   ]
  },
  {
   "cell_type": "code",
   "execution_count": null,
   "id": "13f02815-6b99-4dda-ac25-7298ca447c54",
   "metadata": {},
   "outputs": [],
   "source": []
  }
 ],
 "metadata": {
  "kernelspec": {
   "display_name": "Python 3 (ipykernel)",
   "language": "python",
   "name": "python3"
  },
  "language_info": {
   "codemirror_mode": {
    "name": "ipython",
    "version": 3
   },
   "file_extension": ".py",
   "mimetype": "text/x-python",
   "name": "python",
   "nbconvert_exporter": "python",
   "pygments_lexer": "ipython3",
   "version": "3.12.0"
  }
 },
 "nbformat": 4,
 "nbformat_minor": 5
}
