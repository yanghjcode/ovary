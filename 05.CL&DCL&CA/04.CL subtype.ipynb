{
 "cells": [
  {
   "cell_type": "code",
   "execution_count": 5,
   "id": "9826087d-5c54-4e26-8d3d-f4b497f1eae4",
   "metadata": {},
   "outputs": [],
   "source": [
    "rds <- readRDS(\"CL.rds\")"
   ]
  },
  {
   "cell_type": "code",
   "execution_count": 7,
   "id": "bbede254-79b6-4332-b5f9-ff4796ba1715",
   "metadata": {},
   "outputs": [],
   "source": [
    "rds@meta.data$celltype=rds@meta.data$seurat_clusters"
   ]
  },
  {
   "cell_type": "code",
   "execution_count": 8,
   "id": "d29ef5ef-194f-4582-9f10-889e4f7d324e",
   "metadata": {},
   "outputs": [],
   "source": [
    "rds@meta.data$celltype <- as.character(rds@meta.data$celltype)"
   ]
  },
  {
   "cell_type": "markdown",
   "id": "f4628f28-618f-4044-9652-c5fdba3ba74a",
   "metadata": {},
   "source": [
    "### alltype"
   ]
  },
  {
   "cell_type": "markdown",
   "id": "75547f6a-ca43-4108-b918-54de2e49e5c3",
   "metadata": {},
   "source": [
    "### LC VS No-LC"
   ]
  },
  {
   "cell_type": "code",
   "execution_count": 9,
   "id": "81b5b809-1616-4fa3-a3b4-2be32fbcc47a",
   "metadata": {},
   "outputs": [],
   "source": [
    "rds@meta.data$celltype[rds@meta.data$celltype=='0']=as.character(\"Non-LC\")\n",
    "rds@meta.data$celltype[rds@meta.data$celltype=='1']=as.character(\"Non-LC\")\n",
    "rds@meta.data$celltype[rds@meta.data$celltype=='2']=as.character(\"LC\")\n",
    "rds@meta.data$celltype[rds@meta.data$celltype=='3']=as.character(\"LC\")\n",
    "rds@meta.data$celltype[rds@meta.data$celltype=='4']=as.character(\"Non-LC\")"
   ]
  },
  {
   "cell_type": "code",
   "execution_count": 10,
   "id": "beb6be76-59a8-4363-b37e-e403f9bf80a9",
   "metadata": {},
   "outputs": [
    {
     "data": {
      "text/plain": [
       "\n",
       "    LC Non-LC \n",
       "   621   1006 "
      ]
     },
     "metadata": {},
     "output_type": "display_data"
    }
   ],
   "source": [
    "table(rds@meta.data$celltype)"
   ]
  },
  {
   "cell_type": "code",
   "execution_count": null,
   "id": "23937974-02d8-42a4-bc0c-9d5e99452da6",
   "metadata": {
    "scrolled": true
   },
   "outputs": [],
   "source": [
    "genes=c(\"INSL3\",\"APOE\",\"S100A6\",\"STAR\",\"GSTA1\",\"DHCR24\",\"LHCGR\",\"SCARB1\",\"LDLR\",\"HMGCS1\",\"HMGCR\",\"PMVK\",\"SQLE\",\"LSS\",\"SC4MOL\",\"NSDHL\",\"SC5D\",\"STAR\",\"HSD3B1\",\"HSD3B2\",\"CYP11A1\",\"CYP17A1\",\"CYP19A1\",\"HSD17B1\",\"PTGS2\",\"PTGES\",\"PGF2A\",\"AKR1C3\")\n",
    "options(repr.plot.width =5,repr.plot.height =1.6)\n",
    "p= DotPlot(object = rds, features = unique(genes),scale.by = \"size\",assay=\"RNA\",group.by =\"celltype\")+RotatedAxis() + labs(x=\"\",y=\"\") + scale_color_gradient2(low = \"blue\",mid=\"grey95\",high = \"red\",guide = guide_colorbar(ticks.colour = \"black\",frame.colour = \"black\"),name = \"Average\\nexpression\")+cowplot::theme_cowplot()+mytheme_dot\n",
    "ggsave(paste0(\"18Y-E.cl.LC_VS_Non-LC.marker.pdf\"),plot=p,w=5,h=1.6)\n",
    "p"
   ]
  },
  {
   "cell_type": "code",
   "execution_count": 16,
   "id": "28d82650-88dd-4339-b0f8-c89fc1485f20",
   "metadata": {},
   "outputs": [
    {
     "name": "stderr",
     "output_type": "stream",
     "text": [
      "Warning message:\n",
      "“The following variables were found in both object meta data and the default assay: GSTA1\n",
      "Returning meta data; if you want the feature, please use the assay's key (eg. sct_GSTA1)”\n"
     ]
    }
   ],
   "source": [
    "genes=c(\"INSL3\",\"APOE\",\"S100A6\",\"STAR\",\"GSTA1\",\"DHCR24\",\"LHCGR\",\"SCARB1\",\"LDLR\",\"HMGCS1\",\"HMGCR\",\"PMVK\",\"SQLE\",\"LSS\",\"NSDHL\",\"SC5D\",\"STAR\",\"HSD3B2\",\"CYP11A1\",\"CYP17A1\",\"CYP19A1\",\"HSD17B1\",\"AKR1C3\")\n",
    "meta <- FetchData(object =rds, vars = c(\"celltype\",genes))"
   ]
  },
  {
   "cell_type": "code",
   "execution_count": null,
   "id": "e2df1ab4-c289-4edc-ace6-3db9c86226d6",
   "metadata": {
    "scrolled": true
   },
   "outputs": [],
   "source": [
    "library(ggpubr)\n",
    "library(reshape2)\n",
    "my_comparisons <- list(c(\"LC\",\"Non-LC\"))\n",
    "pdflist={}\n",
    "for(i in (1:length(genes))){\n",
    "     vln_df=meta[,c(\"celltype\",genes[i])]\n",
    "     colnames(vln_df)[1:2] <- c(\"subtype\", \"Gene\")\n",
    "     min_y=-0.5\n",
    "     max_y=max(vln_df$Gene)+max(vln_df$Gene)/5\n",
    "     pdflist[[i]]=ggboxplot(vln_df, x = \"subtype\", y ='Gene' ,outlier.shape =NA)+ylim(min_y,max_y)+ylab(genes[i])+mytheme_vio+ xlab(\"\")+stat_compare_means(comparisons = my_comparisons,label = \"p.signif\",hide.ns=TRUE)\n",
    "}\n",
    "p=CombinePlots(\n",
    "  plots = pdflist,\n",
    "  #nrow =6,\n",
    "  ncol=12\n",
    ")\n",
    "ggsave(paste0(\"18Y.\",\"hormone-receptor.boxplot.pdf\"),plot=p,w=16,h=4)\n",
    "options(repr.plot.width =16,repr.plot.height =4)\n",
    "p"
   ]
  },
  {
   "cell_type": "code",
   "execution_count": null,
   "id": "ee999e16-446c-478f-8028-fe0f47bf2748",
   "metadata": {
    "scrolled": true
   },
   "outputs": [],
   "source": [
    "library(ggpubr)\n",
    "library(reshape2)\n",
    "my_comparisons <- list(c(\"LC\",\"Non-LC\"))\n",
    "pdflist={}\n",
    "for(i in (1:length(genes))){\n",
    "     vln_df=meta[,c(\"celltype\",genes[i])]\n",
    "     colnames(vln_df)[1:2] <- c(\"subtype\", \"Gene\")\n",
    "     \n",
    "     max_y=max(vln_df$Gene)+max(vln_df$Gene)/5\n",
    "     pdflist[[i]]=ggviolin(vln_df, x = \"subtype\", y ='Gene' ,trim=TRUE)+ylab(genes[i])+mytheme_vio+ xlab(\"\")+stat_compare_means(comparisons = my_comparisons,label = \"p.signif\",hide.ns=TRUE)\n",
    "}\n",
    "p=CombinePlots(\n",
    "  plots = pdflist,\n",
    "  #nrow =6,\n",
    "  ncol=12\n",
    ")\n",
    "ggsave(paste0(\"18Y.\",\"hormone-receptor.Vio.pdf\"),plot=p,w=16,h=4)\n",
    "options(repr.plot.width =16,repr.plot.height =4)\n",
    "p"
   ]
  },
  {
   "cell_type": "code",
   "execution_count": 14,
   "id": "b077ce3a-b518-4db9-a148-f582cfaaa9ca",
   "metadata": {},
   "outputs": [],
   "source": [
    "rds@meta.data$celltype[rds@meta.data$celltype=='0']=as.character(\"SC\")\n",
    "rds@meta.data$celltype[rds@meta.data$celltype=='1']=as.character(\"EC\")\n",
    "rds@meta.data$celltype[rds@meta.data$celltype=='2']=as.character(\"LC\")\n",
    "rds@meta.data$celltype[rds@meta.data$celltype=='3']=as.character(\"LC\")\n",
    "rds@meta.data$celltype[rds@meta.data$celltype=='4']=as.character(\"GC\")"
   ]
  },
  {
   "cell_type": "code",
   "execution_count": 15,
   "id": "a2859fad-e84d-4558-a00b-bfeda63e94dc",
   "metadata": {},
   "outputs": [],
   "source": [
    "rds@meta.data$celltype <- factor(rds@meta.data$celltype,levels=c(\"SC\",\"EC\",\"GC\",\"LC\"))"
   ]
  },
  {
   "cell_type": "code",
   "execution_count": null,
   "id": "f318d1ae-6570-4341-8511-ab9aa7688434",
   "metadata": {},
   "outputs": [],
   "source": [
    "library(ggdark)\n",
    "color=c('gray',\"#6699FFFF\",'#fdae61','#d7191c',\"#99991EFF\",\"green\")\n",
    "#color=c(\"#FFCC00FF\",\"#6699FFFF\",\"#CC33FFFF\",\"#99991EFF\",\"#999999FF\")\n",
    "options(repr.plot.width =4,repr.plot.height =4)\n",
    "x_min=min(rds@meta.data$x)\n",
    "y_min=min(rds@meta.data$y)                                \n",
    "p=ggplot(data = rds@meta.data,aes(x = x, y = y, color =celltype))+\n",
    "        geom_point(size = 0.5) +\n",
    "        scale_colour_manual(name=\"\",values = color)+\n",
    "        theme_classic() +coord_fixed()+\n",
    "        theme(panel.grid.major=element_blank(),panel.grid.minor=element_blank(),\n",
    "        plot.title = element_text(hjust = 0.5, size = 20),\n",
    "        axis.text = element_blank(),\n",
    "        axis.ticks = element_blank(),\n",
    "        legend.title = element_text(face = \"italic\",family = \"Times\",colour = \"red\",size = 16),\n",
    "        legend.text = element_text(colour = \"blue\",face = \"italic\",size = 14),\n",
    "        axis.line = element_blank()) +\n",
    "        guides(colour = guide_legend(override.aes=list(size=5)))+\n",
    "        xlab(\"\") + ylab(\"\")+annotate(\"segment\", x = x_min, xend = x_min+400, y = y_min, yend =y_min,size =0.5)+\n",
    "        annotate(\"text\", x = x_min+200, y = y_min+100, label = \"200 um\",color=\"white\",size =4, fontface=\"bold\" )+dark_theme_bw()+dark_theme_void()    \n",
    "ggsave(paste0(\"GC.\",\"18Y-E.cl.res1.cluster.pdf\"),plot=p,w=4,h=4)\n",
    "p#"
   ]
  },
  {
   "cell_type": "code",
   "execution_count": 73,
   "id": "c13699d5-3839-4beb-a1a8-10932fcdb2e9",
   "metadata": {},
   "outputs": [],
   "source": [
    " plot_gene_all=function (df, colnames,sam) \n",
    "{\n",
    "    df=df[,c(\"x\", \"y\", colnames)]\n",
    "    df=df[!is.na(df[,colnames]), ]\n",
    "         min.cutoff=min(df[, colnames])\n",
    "    min.cutoff=as.numeric(sprintf(\"%.1e\", min.cutoff))\n",
    "    max.cutoff=max(df[, colnames])\n",
    "    max.cutoff=as.numeric(sprintf(\"%.1e\", max.cutoff))\n",
    "    #dens <- Nebulosa:::calculate_density(df[, colnames], df[, c(\"x\", \"y\")], method = \"wkde\")\n",
    "    #df[, colnames] <- dens\n",
    "    #df=df[!is.na(df[,colnames])]\n",
    "    ix1 <- which(df[,colnames] <= min.cutoff)\n",
    "    ix2 <- which(df[,colnames] >= max.cutoff)\n",
    "    df[ix1, colnames] <- min.cutoff\n",
    "    df[ix2, colnames] <- max.cutoff\n",
    "    \n",
    "    p <- ggplot(df) + aes(x, y, color = .data[[colnames]]) + #xlim(min(df$x)-100,max(df$x)+100)+ylim(min(df$y)-100,max(df$y)+100)+\n",
    "            geom_point(size = 0.8,stroke=0)  + ggtitle(sam) +  \n",
    "            coord_fixed() + \n",
    "       theme_void() + dark_theme_bw()+ dark_theme_void()+scale_fill_continuous(low = \"blue4\", high = \"red\",breaks = c(min.cutoff, max.cutoff), limits = c(min.cutoff,max.cutoff),labels = c(\"Min\", \"Max\"))+\n",
    "        theme(\n",
    "            legend.title=element_blank(),\n",
    "            strip.text = element_text(size = 7,color=\"white\"),\n",
    "            plot.title = element_text(hjust = 0.5,size=7),\n",
    "            legend.key.size = unit(0.4, \"cm\"),\n",
    "            \n",
    "            panel.border = element_rect(color = \"black\", fill = NA, size = 0.5)\n",
    "        ) +annotate(\"segment\", x = min(df$x), xend =min(df$x)+400, y = min(df$y)-100, yend =min(df$y)-100,linewidth =0.5,color=\"white\")+#scale_color_viridis(option = \"C\")+\n",
    "    \n",
    "    scale_color_viridis(option = \"C\", breaks = c(min.cutoff, max.cutoff), limits = c(min.cutoff,max.cutoff),labels = c(\"Min\", \"Max\"))+\n",
    "    guides(keywidth = 0.02, keyheight = 0.02)\n",
    "    return(p)\n",
    "}"
   ]
  },
  {
   "cell_type": "code",
   "execution_count": 65,
   "id": "5d26b640-a48b-4c72-a310-f78bab10fb66",
   "metadata": {},
   "outputs": [],
   "source": [
    "genes=c(\"AMH\",\"GSTA1\",\"LDLR\",\"LHCGR\",\"STAR\",\"SCARB1\",\"LDLR\",\"HMGCS1\",\"HMGCR\",\"PMVK\",\"SQLE\",\"LSS\",\"NSDHL\",\"SC5D\",\"HSD3B2\",\"CYP11A1\",\"CYP17A1\",\"CYP19A1\",\"HSD17B1\",\"AKR1C3\",\"LHCGR\",\"MC2R\",\"AR\",\"PGR\",\"ESR1\",\"PTGER2\",\"PTGER3\",\"HIF1A\",\"ENO1\",\"LDHA\",\"ALDOA\",\"PGK1\",\"SLC2A1\",\"VEGFA\",\"VEGFB\",\"VEGFC\",\"VEGFD\",\"FLT1\",\"KDR\",\"FLT4\",\"ANGPT1\",\"ANGPT2\",\"NOS3\",\"ACTA2\",\"PECAM1\",\"CDH5\",\"TM4SF1\",\"VWF\",\"DCN\",\"LUM\",\"TCF21\",\"COLLA2\")"
   ]
  },
  {
   "cell_type": "code",
   "execution_count": 67,
   "id": "1aed68e9-1a5c-486b-8e8b-b04ac0a466da",
   "metadata": {},
   "outputs": [],
   "source": [
    "genes=unique(genes)"
   ]
  },
  {
   "cell_type": "code",
   "execution_count": null,
   "id": "77f07a7d-af3a-4bfd-ac09-e2c8cd7d102f",
   "metadata": {
    "scrolled": true
   },
   "outputs": [],
   "source": [
    "meta <- FetchData(object =rds, vars = c(\"x\",\"y\",\"celltype\",genes))"
   ]
  },
  {
   "cell_type": "code",
   "execution_count": 77,
   "id": "715d364d-1b96-41dc-9dba-f902e8bc70e9",
   "metadata": {},
   "outputs": [],
   "source": [
    "genes <- intersect(colnames(meta), genes)"
   ]
  },
  {
   "cell_type": "code",
   "execution_count": null,
   "id": "4f029731-6d57-4662-8878-b595f474c576",
   "metadata": {},
   "outputs": [],
   "source": [
    "library(viridis)\n",
    "plist <- list()\n",
    "for(i in (1:length(genes))){\n",
    "    plist[[i]]=plot_gene_all(meta,genes[i],genes[i])\n",
    "}\n",
    "p=CombinePlots(\n",
    "  plots = plist,\n",
    "  nrow =5\n",
    ")\n",
    "options(repr.plot.width =16*1.2,repr.plot.height =15)\n",
    "p\n",
    "ggsave(paste0(\"18Y.score.pdf\"),plot=p,w=16*1.2,h=15)\n"
   ]
  }
 ],
 "metadata": {
  "kernelspec": {
   "display_name": "R",
   "language": "R",
   "name": "ir"
  },
  "language_info": {
   "codemirror_mode": "r",
   "file_extension": ".r",
   "mimetype": "text/x-r-source",
   "name": "R",
   "pygments_lexer": "r",
   "version": "4.2.1"
  }
 },
 "nbformat": 4,
 "nbformat_minor": 5
}
