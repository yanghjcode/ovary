{
 "cells": [
  {
   "cell_type": "code",
   "execution_count": 8,
   "id": "ec597d8f-d6c5-4426-a11f-3172eb740617",
   "metadata": {
    "execution": {
     "iopub.execute_input": "2023-06-21T05:45:50.683899Z",
     "iopub.status.busy": "2023-06-21T05:45:50.680516Z",
     "iopub.status.idle": "2023-06-21T05:45:50.971731Z",
     "shell.execute_reply": "2023-06-21T05:45:50.970031Z"
    },
    "tags": []
   },
   "outputs": [
    {
     "name": "stderr",
     "output_type": "stream",
     "text": [
      "Loading required package: Rcpp\n",
      "\n"
     ]
    }
   ],
   "source": [
    "library(Seurat)\n",
    "library(patchwork)\n",
    "library(ggpubr)\n",
    "library(harmony)\n",
    "library(dplyr)"
   ]
  },
  {
   "cell_type": "code",
   "execution_count": null,
   "id": "e22368c2-d917-4b50-8f00-1ee32b5e6c25",
   "metadata": {
    "scrolled": true,
    "tags": []
   },
   "outputs": [],
   "source": [
    "setwd('./')\n",
    "CL <- c(\"18Y.CL2\",\"18Y.CL-E\",\"18Y.control\",\"27Y.CL-E\",\"27Y.control\",\"32Y.CL-L\",\"32Y.control\",\"47Y.CL-L-1\",\"47Y.CL-L-2\",\"47Y.control\",\"49Y.CL-L\",\"49Y.control\",'32y.CA','40y.CA','42y.CA')\n",
    "CL2 <- c(\"18Y-E1\",\"18Y-E2\",\"18Y-C\",\"27Y-E\",\"27Y-C\",\"32Y-L\",\"32Y-C\",\"47Y-L1\",\"47Y-L2\",\"47Y-C\",\"49Y-L\",\"49Y-C\",'32y.CA','40y.CA','42y.CA')\n",
    "\n",
    "scRNAlist = {}\n",
    "for(i in (1:length(CL))){\n",
    "     file=paste0(\"./\",CL[i])\n",
    "     data <- Read10X(data.dir = CL[i])\n",
    "     scRNAlist[[i]] <- CreateSeuratObject(counts = data,project = CL2[i] , min.cells = 0, min.features = 0)\n",
    "     print(CL[i])\n",
    "}\n",
    "\n",
    "scRNA=scRNAlist[[1]]\n",
    "for (j in (2:length(scRNAlist))){\n",
    "    scRNA <- merge(scRNA,scRNAlist[j])\n",
    "}\n",
    "saveRDS(scRNA, file =\"CL&CA.raw.rds\")"
   ]
  },
  {
   "cell_type": "code",
   "execution_count": 4,
   "id": "be87f714-2701-4803-a7ed-7f6bed2ca4a6",
   "metadata": {
    "execution": {
     "iopub.execute_input": "2023-06-20T05:37:58.523283Z",
     "iopub.status.busy": "2023-06-20T05:37:58.522140Z",
     "iopub.status.idle": "2023-06-20T05:37:58.537132Z",
     "shell.execute_reply": "2023-06-20T05:37:58.535945Z"
    },
    "tags": []
   },
   "outputs": [
    {
     "data": {
      "text/plain": [
       "\n",
       " 18Y-C 18Y-E1 18Y-E2  27Y-C  27Y-E  32Y-C  32Y-L 32y.CA 40y.CA 42y.CA  47Y-C \n",
       "   600     95    250    518    214   1311    305    416    511    369   1003 \n",
       "47Y-L1 47Y-L2  49Y-C  49Y-L \n",
       "   186    480   1483    933 "
      ]
     },
     "metadata": {},
     "output_type": "display_data"
    }
   ],
   "source": [
    "table(scRNA@meta.data$orig.ident)"
   ]
  },
  {
   "cell_type": "code",
   "execution_count": 6,
   "id": "11049b76-561c-4dd0-9b3b-6fe83b20fa1f",
   "metadata": {
    "execution": {
     "iopub.execute_input": "2023-06-20T05:38:06.336970Z",
     "iopub.status.busy": "2023-06-20T05:38:06.335468Z",
     "iopub.status.idle": "2023-06-20T05:38:06.360592Z",
     "shell.execute_reply": "2023-06-20T05:38:06.359287Z"
    },
    "tags": []
   },
   "outputs": [],
   "source": [
    "scRNA@meta.data$Stage <- scRNA@meta.data$orig.ident\n",
    "scRNA@meta.data=scRNA@meta.data %>% mutate(Stage=case_when(\n",
    "                                            Stage == \"18Y-E1\" ~ \"Corpus luteum\",\n",
    "                                            Stage == \"18Y-E2\" ~ \"Corpus luteum\", \n",
    "                                            Stage == \"27Y-E\" ~ \"Corpus luteum\",\n",
    "                                            Stage == \"32Y-L\" ~ \"Luteolysis\",\n",
    "                                            Stage == \"32y.CA\" ~ \"Corpus albicans\",\n",
    "                                            Stage == \"40y.CA\" ~ \"Corpus albicans\",\n",
    "                                            Stage == \"42y.CA\" ~ \"Corpus albicans\",\n",
    "                                            Stage == \"47Y-L1\" ~ \"Luteolysis\",\n",
    "                                            Stage == \"47Y-L2\" ~ \"Luteolysis\",\n",
    "                                            Stage == \"49Y-L\" ~ \"Luteolysis\",\n",
    "                                            Stage == \"18Y-C\" ~ \"Background\",\n",
    "                                            Stage == \"27Y-C\" ~ \"Background\",\n",
    "                                            Stage == \"32Y-C\" ~ \"Background\",\n",
    "                                            Stage == \"47Y-C\" ~ \"Background\",\n",
    "                                            Stage == \"49Y-C\" ~ \"Background\",\n",
    "                                            \n",
    "                         TRUE ~ NA_character_))"
   ]
  },
  {
   "cell_type": "code",
   "execution_count": 7,
   "id": "d6b38ed9-8b4c-4fac-befd-445ca4b40644",
   "metadata": {
    "execution": {
     "iopub.execute_input": "2023-06-20T05:38:07.577640Z",
     "iopub.status.busy": "2023-06-20T05:38:07.576537Z",
     "iopub.status.idle": "2023-06-20T05:38:07.589084Z",
     "shell.execute_reply": "2023-06-20T05:38:07.587896Z"
    },
    "tags": []
   },
   "outputs": [
    {
     "data": {
      "text/html": [
       "<style>\n",
       ".list-inline {list-style: none; margin:0; padding: 0}\n",
       ".list-inline>li {display: inline-block}\n",
       ".list-inline>li:not(:last-child)::after {content: \"\\00b7\"; padding: 0 .5ex}\n",
       "</style>\n",
       "<ol class=list-inline><li>'Corpus luteum'</li><li>'Background'</li><li>'Luteolysis'</li><li>'Corpus albicans'</li></ol>\n"
      ],
      "text/latex": [
       "\\begin{enumerate*}\n",
       "\\item 'Corpus luteum'\n",
       "\\item 'Background'\n",
       "\\item 'Luteolysis'\n",
       "\\item 'Corpus albicans'\n",
       "\\end{enumerate*}\n"
      ],
      "text/markdown": [
       "1. 'Corpus luteum'\n",
       "2. 'Background'\n",
       "3. 'Luteolysis'\n",
       "4. 'Corpus albicans'\n",
       "\n",
       "\n"
      ],
      "text/plain": [
       "[1] \"Corpus luteum\"   \"Background\"      \"Luteolysis\"      \"Corpus albicans\""
      ]
     },
     "metadata": {},
     "output_type": "display_data"
    }
   ],
   "source": [
    "unique(scRNA@meta.data$Stage)"
   ]
  },
  {
   "cell_type": "code",
   "execution_count": 11,
   "id": "2fe20658-6420-4093-aecc-82c9783e75f2",
   "metadata": {
    "execution": {
     "iopub.execute_input": "2023-06-20T05:38:37.209024Z",
     "iopub.status.busy": "2023-06-20T05:38:37.207195Z",
     "iopub.status.idle": "2023-06-20T05:38:37.220638Z",
     "shell.execute_reply": "2023-06-20T05:38:37.218961Z"
    },
    "tags": []
   },
   "outputs": [],
   "source": [
    "scRNA@meta.data$Stage <- factor(scRNA@meta.data$Stage,levels=c(\"Corpus luteum\",\"Luteolysis\",\"Corpus albicans\",\"Background\"))"
   ]
  },
  {
   "cell_type": "code",
   "execution_count": 18,
   "id": "f7006eb2-8b33-43e4-839f-566c3978de34",
   "metadata": {
    "execution": {
     "iopub.execute_input": "2023-06-20T05:40:05.309535Z",
     "iopub.status.busy": "2023-06-20T05:40:05.307933Z",
     "iopub.status.idle": "2023-06-20T05:40:07.195548Z",
     "shell.execute_reply": "2023-06-20T05:40:07.194077Z"
    },
    "tags": []
   },
   "outputs": [],
   "source": [
    "scRNA <- NormalizeData(scRNA, normalization.method = \"LogNormalize\", scale.factor = 10000)\n",
    "scRNA <- PercentageFeatureSet(scRNA, '^MT-', col.name = \"percent.mt\")\n",
    "scRNA <- PercentageFeatureSet(scRNA, '^RP[SL]', col.name = \"percent.ribo\")\n",
    "scRNA <- PercentageFeatureSet(scRNA, '^HB[^(P)]', col.name = \"percent.hb\")"
   ]
  },
  {
   "cell_type": "code",
   "execution_count": null,
   "id": "16011f45-a006-494e-bd75-580cfdb4e80f",
   "metadata": {
    "tags": []
   },
   "outputs": [],
   "source": [
    "scRNA <- FindVariableFeatures(scRNA, selection.method = \"vst\", nfeatures = 5000)\n",
    "scRNA <- ScaleData(scRNA,vars.to.regress =c(\"percent.mt\",\"nCount_RNA\",\"orig.ident\"))\n",
    "scRNA <- RunPCA(scRNA,features = VariableFeatures(object =scRNA),npcs=50, verbose=FALSE)\n",
    "scRNA <- RunHarmony(scRNA, group.by.vars=\"orig.ident\", assay.use=\"RNA\", max.iter.harmony = 20)\n",
    "scRNA <- RunUMAP(scRNA, reduction = \"harmony\", dims = 1:30,min.dist =0.05,spread =10)\n",
    "scRNA <- RunTSNE(scRNA, reduction = \"harmony\", dims = 1:30)\n",
    "scRNA <- FindNeighbors(scRNA, reduction=\"harmony\", dims = 1:30)"
   ]
  },
  {
   "cell_type": "code",
   "execution_count": 20,
   "id": "9ce655e5-2369-4550-9344-a3b2c40a5452",
   "metadata": {
    "execution": {
     "iopub.execute_input": "2023-06-20T05:47:37.859710Z",
     "iopub.status.busy": "2023-06-20T05:47:37.857446Z",
     "iopub.status.idle": "2023-06-20T05:48:22.218479Z",
     "shell.execute_reply": "2023-06-20T05:48:22.215502Z"
    }
   },
   "outputs": [],
   "source": [
    "saveRDS(scRNA, file =\"CL&CA.final.rds\")"
   ]
  },
  {
   "cell_type": "code",
   "execution_count": 28,
   "id": "b6b7b104-63f6-4d0a-becb-6225059d47f4",
   "metadata": {
    "execution": {
     "iopub.execute_input": "2023-06-20T05:50:13.027421Z",
     "iopub.status.busy": "2023-06-20T05:50:13.026450Z",
     "iopub.status.idle": "2023-06-20T05:50:13.129323Z",
     "shell.execute_reply": "2023-06-20T05:50:13.128215Z"
    },
    "tags": []
   },
   "outputs": [],
   "source": [
    "library(tidyr)\n",
    "meta <- FetchData(scRNA, vars='orig.ident', slot = \"data\")\n",
    "meta$celltype = rownames(meta)"
   ]
  },
  {
   "cell_type": "code",
   "execution_count": null,
   "id": "37b1e353-32e1-4ad8-a68d-5a268c4ef9f3",
   "metadata": {
    "scrolled": true,
    "tags": []
   },
   "outputs": [],
   "source": [
    "meta_new <- separate(meta, col = celltype, into = c(\"celltype\",\"orig\"), sep = '_')\n",
    "meta_new <- separate(meta_new, col = celltype, into = c(\"No1\",\"celltype\", \"No2\"), sep = '-')\n",
    "meta_new$new_celltype <- paste0(meta_new$No1,'_',meta_new$celltype)\n",
    "meta_new = meta_new[,c('orig.ident','new_celltype')]\n",
    "scRNA <- AddMetaData(scRNA, metadata = meta_new$new_celltype, col.name = 'celltype')"
   ]
  },
  {
   "cell_type": "code",
   "execution_count": null,
   "id": "242485b5-edab-4759-bc98-1dd0a12e4e9c",
   "metadata": {
    "tags": []
   },
   "outputs": [],
   "source": [
    "colour= c('gray','black','blue','purple','#FF7F00','green','red')\n",
    "mytheme = theme(plot.title = element_text(size = 20,color=\"black\",hjust = 0.5),\n",
    "                 axis.title = element_text(size =24,color =\"black\"),\n",
    "                 axis.text = element_text(size=18,color = \"black\"),\n",
    "                 panel.grid.minor.y = element_blank(),\n",
    "                 panel.grid.minor.x = element_blank(),\n",
    "                  panel.grid=element_blank(), # 去网格线\n",
    "                 legend.text = element_text(size=14),\n",
    "                 legend.title= element_text(size= 18),\n",
    "                 axis.text.x = element_text(angle = 45, hjust=1, vjust=1))\n",
    "sample_table <- as.data.frame(table(sce@meta.data$Stage,sce@meta.data$celltype))\n",
    "names(sample_table) <- c(\"Stage\",\"Celltype\",\"CellNumber\")\n",
    "sample_table$Stage <- factor(sample_table$Stage,levels=c(\"Corpus luteum\",\"Luteolysis\",\"Corpus albicans\",\"Background\"))\n",
    "plot_sample1<-ggplot(sample_table,aes(x=Stage,weight=CellNumber,fill=Celltype))+\n",
    "  geom_bar(position=\"fill\")+ylab(\"Percentage\")+theme_bw() +\n",
    "  scale_fill_manual(values=colour) +mytheme\n",
    "plot_sample2<-ggplot(sample_table,aes(x=Stage,weight=CellNumber,fill=Celltype))+\n",
    "  geom_bar()+ylab(\"Number\")+theme_bw() +\n",
    "  scale_fill_manual(values=colour) +mytheme\n",
    "\n",
    "options(repr.plot.width =10,repr.plot.height =6)\n",
    "p=CombinePlots(\n",
    "  plots = list(plot_sample1,plot_sample2),\n",
    "  nrow =1\n",
    ")\n",
    "p\n",
    "ggsave(\"CL&CA.stage.celltype.barplot.pdf\",plot=p,w=10,h=6)"
   ]
  },
  {
   "cell_type": "code",
   "execution_count": null,
   "id": "84d26c58-101b-4e4c-938c-09f7c984e676",
   "metadata": {
    "tags": []
   },
   "outputs": [],
   "source": [
    "# cellcycle analysis\n",
    "scRNA<- CellCycleScoring(\n",
    "  object = scRNA,\n",
    "  g2m.features = cc.genes$g2m.genes,\n",
    "  s.features = cc.genes$s.genes\n",
    ")\n",
    "colour=c('yellow4', 'steelblue4', 'darkturquoise',\n",
    "                    'green1', 'yellow4', 'yellow3','darkorange4', 'brown')\n",
    "sample_table <- as.data.frame(table(sce@meta.data$Stage,sce@meta.data$Phase))\n",
    "names(sample_table) <- c(\"Samples\",\"Phase\",\"CellNumber\")\n",
    "head(sample_table)\n",
    "sample_table$Samples <- factor(sample_table$Samples,levels=c(\"Corpus luteum\",\"Luteolysis\",\"Corpus albicans\",\"Background\"))\n",
    "plot_sample1<-ggplot(sample_table,aes(x=Samples,weight=CellNumber,fill=Phase))+\n",
    "  geom_bar(position=\"fill\")+ylab(\"Percentage\")+theme_bw() +\n",
    "  scale_fill_manual(values=colour) +mytheme\n",
    "plot_sample2<-ggplot(sample_table,aes(x=Samples,weight=CellNumber,fill=Phase))+\n",
    "  geom_bar()+ylab(\"Number\")+theme_bw() +\n",
    "  scale_fill_manual(values=colour) +mytheme\n",
    "\n",
    "options(repr.plot.width =12,repr.plot.height =6)\n",
    "p=CombinePlots(\n",
    "  plots = list(plot_sample1,plot_sample2),\n",
    "  nrow =1\n",
    ")\n",
    "p\n",
    "ggsave(\"CL&CA.stage.cellcycle.barplot.pdf\",plot=p,w=10,h=6)"
   ]
  }
 ],
 "metadata": {
  "kernelspec": {
   "display_name": "R",
   "language": "R",
   "name": "ir"
  },
  "language_info": {
   "codemirror_mode": "r",
   "file_extension": ".r",
   "mimetype": "text/x-r-source",
   "name": "R",
   "pygments_lexer": "r",
   "version": "4.2.1"
  }
 },
 "nbformat": 4,
 "nbformat_minor": 5
}
