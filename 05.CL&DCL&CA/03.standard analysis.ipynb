{
 "cells": [
  {
   "cell_type": "code",
   "execution_count": null,
   "id": "f400c4d2-1213-44ba-8046-a224e28bbec9",
   "metadata": {},
   "outputs": [],
   "source": [
    "library(harmony)\n",
    "args <- commandArgs(TRUE)\n",
    "indir<-args[1]\n",
    "output_dir<-args[2]\n",
    "prefix <-args[3]\n",
    "\n",
    "setwd(indir)\n",
    "scRNAlist = {}\n",
    "sams=c(\"C1\",\"C2\",\"C3\",\"C4\",\"follicle\",\"CA\",\"CL\",\"CLR\",\"Background\")\n",
    "for(i in (1:length(sams))){\n",
    "     counts <- Read10X(data.dir = paste0(indir,\"/\",sams[i]),  gene.column = 1)\n",
    "     scRNAlist[[i]]=CreateSeuratObject(counts,project=sams[i])\n",
    "     scRNAlist[[i]]@meta.data$orig.ident=sams[i]\n",
    "}\n",
    "\n",
    "scRNA=scRNAlist[[1]]\n",
    "for (j in (2:length(scRNAlist))){\n",
    "    scRNA <- merge(scRNA,scRNAlist[j])\n",
    "}\n",
    "\n",
    "saveRDS(scRNA, file =  paste0(output_dir,\"/\",prefix,\".merge.rds\"))\n",
    "\n",
    "\n",
    "scRNA <- NormalizeData(scRNA, normalization.method = \"LogNormalize\", scale.factor = 10000)\n",
    "scRNA <- FindVariableFeatures(scRNA, selection.method = \"vst\", nfeatures = 10000)\n",
    "scRNA <- PercentageFeatureSet(scRNA, '^MT-', col.name = \"percent.mt\")\n",
    "scRNA <- PercentageFeatureSet(scRNA, '^RP[SL]', col.name = \"percent.ribo\")\n",
    "scRNA <- PercentageFeatureSet(scRNA, '^HB[^(P)]', col.name = \"percent.hb\")\n",
    "scRNA <- ScaleData(scRNA,vars.to.regress =c(\"percent.mt\",\"nCount_RNA\",\"orig.ident\"))\n",
    "scRNA <- RunPCA(scRNA,features = VariableFeatures(object =scRNA),npcs=50, verbose=FALSE)\n",
    "scRNA <- RunHarmony(scRNA, group.by.vars=\"orig.ident\", assay.use=\"RNA\", max.iter.harmony = 50)\n",
    "scRNA <- RunUMAP(scRNA, reduction = \"harmony\", dims = 1:50)\n",
    "scRNA <- RunTSNE(scRNA, reduction = \"harmony\", dims = 1:50)\n",
    "scRNA <- FindNeighbors(scRNA, reduction=\"harmony\", dims = 1:50)\n",
    "saveRDS(scRNA,file=paste0(output_dir,\"/\",prefix,\".harmony.rds\"))\n"
   ]
  }
 ],
 "metadata": {
  "kernelspec": {
   "display_name": "R",
   "language": "R",
   "name": "ir"
  },
  "language_info": {
   "codemirror_mode": "r",
   "file_extension": ".r",
   "mimetype": "text/x-r-source",
   "name": "R",
   "pygments_lexer": "r",
   "version": "4.2.1"
  }
 },
 "nbformat": 4,
 "nbformat_minor": 5
}
